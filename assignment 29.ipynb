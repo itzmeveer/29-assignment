{
 "cells": [
  {
   "cell_type": "markdown",
   "id": "88efa30a-7ec3-463d-87cb-3abb4c6c069c",
   "metadata": {},
   "source": [
    "## 29 Jan assignment work"
   ]
  },
  {
   "cell_type": "markdown",
   "id": "b066f19c-ba24-47e3-a6b1-266f161f4cb1",
   "metadata": {},
   "source": [
    "1. Who developed python programming language ?"
   ]
  },
  {
   "cell_type": "markdown",
   "id": "dc2a8ac5-a9ec-49e0-a30f-ece97def7026",
   "metadata": {},
   "source": [
    "Ans1. python was designed by a dutch programmer Guido van rossum in netherland , first released on feb 20,1991."
   ]
  },
  {
   "cell_type": "markdown",
   "id": "c3713b69-b227-4cd7-908a-8a98b21a5a2f",
   "metadata": {},
   "source": [
    "2. which type of programming does python supports ?"
   ]
  },
  {
   "cell_type": "markdown",
   "id": "f72b5c87-5201-4e0c-a413-76484d9b164e",
   "metadata": {},
   "source": [
    "Ans2. Python is an intepreted programming language, which supports object-oriented, structured, and functional programming."
   ]
  },
  {
   "cell_type": "markdown",
   "id": "f1875093-c730-4af3-adbb-9a4cd8742f9c",
   "metadata": {},
   "source": [
    "3. Is python case sensitive when dealing with identifiers?"
   ]
  },
  {
   "cell_type": "markdown",
   "id": "b2befe45-6cd5-4557-8ccb-1c34118fb51b",
   "metadata": {},
   "source": [
    "Ans3. Case is always significant while dealing with identifiers in python. "
   ]
  },
  {
   "cell_type": "markdown",
   "id": "ab499d6a-3e30-4080-941b-6e3fa01d92af",
   "metadata": {},
   "source": [
    "4. What is correct extension of python file?"
   ]
  },
  {
   "cell_type": "markdown",
   "id": "976712d8-b212-4f1c-b429-89e8a19d3a75",
   "metadata": {},
   "source": [
    "Ans4. The extension for python files are-.py,.pyi,.pyc,.pyd,.pyo,.pyw,and .pyz."
   ]
  },
  {
   "cell_type": "markdown",
   "id": "249a666e-ff92-40d8-b250-3ac25f33bd77",
   "metadata": {},
   "source": [
    "5. Is python code compiled or interpretd?"
   ]
  },
  {
   "cell_type": "markdown",
   "id": "dcc3e1c4-6259-42cd-8297-1fe2c26526df",
   "metadata": {},
   "source": [
    "Ans.5 many languages have been implemented using both compiler and interpreters, including c,pascal, and python "
   ]
  },
  {
   "cell_type": "markdown",
   "id": "b71d39a9-58f1-4a64-ace9-a108167dabf1",
   "metadata": {},
   "source": [
    "6.Name of few blocks of code used to define in python language."
   ]
  },
  {
   "cell_type": "markdown",
   "id": "ade0a854-1ed0-4542-b876-064de8921423",
   "metadata": {},
   "source": [
    "Ans6. A block is a piece of Python program text that is executed as a unit. The following are blocks: a module, a function body, and a class definition.\n"
   ]
  },
  {
   "cell_type": "markdown",
   "id": "46c594f5-05ec-4c58-98ce-3e9ea172902f",
   "metadata": {},
   "source": [
    "7.state a character used to give a single-line comment in Python."
   ]
  },
  {
   "cell_type": "markdown",
   "id": "316bb809-c614-499a-a1fe-87c91c36d910",
   "metadata": {},
   "source": [
    "Ans7.In Python, we use the hash symbol # to write a single-line comment.\n"
   ]
  },
  {
   "cell_type": "markdown",
   "id": "f04f5758-5ec9-4ccf-bb74-9134cceefb3b",
   "metadata": {},
   "source": [
    "8. MENTION FUNCTION WHICH CAN HELP US TO FIND THE VERSION OF PYTHON THAT WE ARE CURRENTLY WORKING ON."
   ]
  },
  {
   "cell_type": "markdown",
   "id": "e6bf62ba-4e9a-4ebd-8240-fb5bbd9398f4",
   "metadata": {},
   "source": [
    "Ans8.  The function sys. version can help us to find the version of python that we are currently working on."
   ]
  },
  {
   "cell_type": "markdown",
   "id": "ac91cfcf-70b7-4229-821f-19398e24159e",
   "metadata": {},
   "source": [
    "9. Python supports the creation annonymous  function at run time , using a construct called ______________ "
   ]
  },
  {
   "cell_type": "markdown",
   "id": "aacf9998-848b-4312-a946-df93402f20ad",
   "metadata": {},
   "source": [
    "Ans9. Python supports to make anonymous functions which are not bound to a name(@ runtime). It uses a construct called \"lambda\" ."
   ]
  },
  {
   "cell_type": "markdown",
   "id": "3c25800a-ccc8-43cd-951f-5038bbff4401",
   "metadata": {},
   "source": [
    "10. what does pip stands for python?"
   ]
  },
  {
   "cell_type": "markdown",
   "id": "e552334b-f1ce-4893-a669-0ef13aa74fa0",
   "metadata": {},
   "source": [
    "Ans10. Alternatively, pip stands for \"preferred installer program\". Python 2.7. 9 and later (on the python2 series), and Python 3.4 and later include pip (pip3 for Python 3) by default."
   ]
  },
  {
   "cell_type": "markdown",
   "id": "3254be7f-b8d1-4c6a-a246-34b8be544811",
   "metadata": {},
   "source": [
    "11.mention a few built-in function in python?"
   ]
  },
  {
   "cell_type": "markdown",
   "id": "a31a1219-e674-4eeb-baff-d37f00b2e86e",
   "metadata": {},
   "source": [
    "Ans11. some built in functiond in Python are as follows: \n",
    "print( ) function.\n",
    "type( ) function.\n",
    "input( ) function.\n",
    "abs( ) function.\n",
    "pow( ) function.\n",
    "dir( ) function.\n",
    "sorted( ) function.\n",
    "max( ) function."
   ]
  },
  {
   "cell_type": "markdown",
   "id": "cdb3d77b-2016-4115-bd08-b81a3c3d2752",
   "metadata": {},
   "source": [
    "12.what is the maximum possible length of an identifier in python?"
   ]
  },
  {
   "cell_type": "markdown",
   "id": "593e0123-1051-417c-80a5-b29bd30640c9",
   "metadata": {},
   "source": [
    "Ans12.An identifier can have a maximum length of 79 characters in Python. Python is one of the most popular programming languages. Guido van Rossum created it, and it was released in 1991."
   ]
  },
  {
   "cell_type": "markdown",
   "id": "ccdf315c-164c-460d-940f-259dc932f954",
   "metadata": {},
   "source": [
    "13. what are the benifits of using python?"
   ]
  },
  {
   "cell_type": "markdown",
   "id": "e70bf4a7-92f5-4334-bd65-7f9c433f761a",
   "metadata": {},
   "source": [
    "Ans13. Python programming is a general-purpose skill used in almost all fields, including: \n",
    "\n",
    "*Data science\n",
    "*Scientific and mathematical computing\n",
    "*Web development\n",
    "*Finance and trading\n",
    "*System automation and administration\n",
    "*Computer graphics\n",
    "*Basic game development\n",
    "*Security and penetration testing\n",
    "*General and application-specific scripting\n",
    "*Mapping and geography (GIS software)"
   ]
  },
  {
   "cell_type": "markdown",
   "id": "4f6f5e09-4570-44fd-99ce-2737520ac873",
   "metadata": {},
   "source": [
    "14. how is memory managed in python"
   ]
  },
  {
   "cell_type": "markdown",
   "id": "0f652c3a-02bf-4f64-b487-1b135f90c656",
   "metadata": {},
   "source": [
    "Ans14. Memory management in Python involves a private heap containing all Python objects and data structures. The management of this private heap is ensured internally by the Python memory manager"
   ]
  },
  {
   "cell_type": "markdown",
   "id": "f612a889-04d0-42b8-bd38-a0b51d51c6d9",
   "metadata": {},
   "source": [
    "15. how to install python on window and set path variables?"
   ]
  },
  {
   "cell_type": "markdown",
   "id": "bd66b4a2-90e0-4c05-99c3-2cb83e26c0f8",
   "metadata": {},
   "source": [
    "Ans15 first of all visit over the site winodows.org and choose the python version according to your need and\n",
    "The complete path of python.exe can be added by:\n",
    "1.Right-clicking This PC and going to Properties.\n",
    "2.Clicking on the Advanced system settings in the menu on the left.\n",
    "3.Clicking on the Environment Variables button o​n the bottom right.\n",
    "4.In the System variables section, selecting the Path variable and clicking on Edit."
   ]
  },
  {
   "cell_type": "markdown",
   "id": "3e586aa9-e791-4331-b4c1-79e3324b71b1",
   "metadata": {},
   "source": [
    "16. Is identation required in python?"
   ]
  },
  {
   "cell_type": "markdown",
   "id": "3442ca18-aa4f-4cd3-bbec-00160aaccd0d",
   "metadata": {},
   "source": [
    "Ans16. Indentation refers to the spaces at the beginning of a code line. Where in other programming languages the indentation in code is for readability only, the indentation in Python is very important. Python uses indentation to indicate a block of code."
   ]
  }
 ],
 "metadata": {
  "kernelspec": {
   "display_name": "Julia 1.8.3",
   "language": "julia",
   "name": "julia-1.8"
  },
  "language_info": {
   "file_extension": ".jl",
   "mimetype": "application/julia",
   "name": "julia",
   "version": "1.8.3"
  }
 },
 "nbformat": 4,
 "nbformat_minor": 5
}
